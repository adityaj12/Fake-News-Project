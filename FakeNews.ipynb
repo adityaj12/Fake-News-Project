{
  "nbformat": 4,
  "nbformat_minor": 0,
  "metadata": {
    "colab": {
      "name": "FakeNews.ipynb",
      "provenance": [],
      "collapsed_sections": [
        "fj3IADlNGjUg",
        "K81dzeKOB8dC",
        "RT94ahwalvYZ",
        "C-DCOLYVZCio",
        "6qrYAGFaY_ld",
        "C1RGA1hQn5q3",
        "TflU0c-puxNo",
        "8UBEqbDinHN0"
      ],
      "include_colab_link": true
    },
    "language_info": {
      "codemirror_mode": {
        "name": "ipython",
        "version": 3
      },
      "file_extension": ".py",
      "mimetype": "text/x-python",
      "name": "python",
      "nbconvert_exporter": "python",
      "pygments_lexer": "ipython3",
      "version": "3.7.3"
    },
    "kernelspec": {
      "display_name": "Python 3",
      "language": "python",
      "name": "python3"
    }
  },
  "cells": [
    {
      "cell_type": "markdown",
      "metadata": {
        "id": "view-in-github",
        "colab_type": "text"
      },
      "source": [
        "<a href=\"https://colab.research.google.com/github/adityaj12/Fake-News-Project/blob/main/FakeNews.ipynb\" target=\"_parent\"><img src=\"https://colab.research.google.com/assets/colab-badge.svg\" alt=\"Open In Colab\"/></a>"
      ]
    },
    {
      "cell_type": "markdown",
      "metadata": {
        "id": "ATa2miB-8VIW"
      },
      "source": [
        "# Section 1: Introduction to Fake News Classification\n"
      ]
    },
    {
      "cell_type": "markdown",
      "metadata": {
        "id": "p6yXc9Z2KMGy"
      },
      "source": [
        "In this notebook we'll be:\n",
        "1.   Exploring HTML and our Data\n",
        "2.   Understanding Word Frequencies and Fake vs. Real Fractions\n",
        "\n"
      ]
    },
    {
      "cell_type": "code",
      "metadata": {
        "id": "6qPRfrpe8NcU",
        "colab": {
          "base_uri": "https://localhost:8080/"
        },
        "outputId": "79172a0b-e286-4355-f67a-cfbddf0eb37c"
      },
      "source": [
        "#@title Run this to load your data { display-mode: \"form\" }\n",
        "import os\n",
        "from bs4 import BeautifulSoup as bs\n",
        "import pickle\n",
        "  \n",
        "import requests\n",
        "import zipfile\n",
        "import io\n",
        "\n",
        "# Download class resources...\n",
        "!wget -O data.zip 'https://storage.googleapis.com/inspirit-ai-data-bucket-1/Data/AI%20Scholars/Sessions%206%20-%2010%20(Projects)/Project%20-%20Fake%20News%20Detection/inspirit_fake_news_resources%20(1).zip'\n",
        "!unzip data.zip\n",
        "\n",
        "basepath = '.'"
      ],
      "execution_count": null,
      "outputs": [
        {
          "output_type": "stream",
          "text": [
            "--2021-05-29 13:34:37--  https://storage.googleapis.com/inspirit-ai-data-bucket-1/Data/AI%20Scholars/Sessions%206%20-%2010%20(Projects)/Project%20-%20Fake%20News%20Detection/inspirit_fake_news_resources%20(1).zip\n",
            "Resolving storage.googleapis.com (storage.googleapis.com)... 142.250.148.128, 209.85.200.128, 108.177.112.128, ...\n",
            "Connecting to storage.googleapis.com (storage.googleapis.com)|142.250.148.128|:443... connected.\n",
            "HTTP request sent, awaiting response... 200 OK\n",
            "Length: 109422100 (104M) [application/zip]\n",
            "Saving to: ‘data.zip’\n",
            "\n",
            "data.zip            100%[===================>] 104.35M  65.8MB/s    in 1.6s    \n",
            "\n",
            "2021-05-29 13:34:39 (65.8 MB/s) - ‘data.zip’ saved [109422100/109422100]\n",
            "\n",
            "Archive:  data.zip\n",
            "  inflating: train_val_data.pkl      \n",
            "  inflating: test_data.pkl           \n"
          ],
          "name": "stdout"
        }
      ]
    },
    {
      "cell_type": "markdown",
      "metadata": {
        "id": "fj3IADlNGjUg"
      },
      "source": [
        "## Anatomy of a (Fake) News Website\n",
        "\n",
        "Have you ever wondered how websites like *google.com* and *nytimes.com* work under the hood? Using the internet every day, it is easy to forget how magical even the most mundane web browsing experiences are. Consider, for example, this article on the New York Times:\n",
        "\n",
        "![NYTimes Article](https://www.niemanlab.org/images/ochs-nytimes-article-page.png)\n",
        "\n",
        "\n",
        "How does the browser know to show the title of the article near the top of the page? How does it know that the word \"Art & Design\" should be left-centered and gray-colored? How does it know where to find the image to display?\n",
        "\n",
        "All of these questions can be answered by probing through the HTML of a webpage. HTML is a simple markup language that augments text with the structure you'd expect from a webpage. It's the language that provides the structure for every webpage you see. Here's an example of an HTML document for a simple webpage.\n",
        "\n",
        "![HTML Example](https://miro.medium.com/max/498/1*5gJzummAqpBDGATo0fjU6Q.jpeg)\n",
        "\n",
        "### HTML in a Nutshell\n",
        "\n",
        "HTML is the standard markup language for creating Web pages.\n",
        "* HTML stands for Hyper Text Markup Language\n",
        "* HTML describes the structure of Web pages using markup\n",
        "* HTML elements are the building blocks of HTML pages\n",
        "* HTML elements are represented by tags\n",
        "* HTML tags label pieces of content such as \"heading\", \"paragraph\", \"table\", and so on\n",
        "* Browsers do not display the HTML tags, but use them to render the content of the page\n",
        "\n",
        "\n"
      ]
    },
    {
      "cell_type": "markdown",
      "metadata": {
        "id": "AuVevk6fBO1s"
      },
      "source": [
        "## Exercise 1 | HTML Warmup"
      ]
    },
    {
      "cell_type": "markdown",
      "metadata": {
        "id": "UFrVbdt-BTVJ"
      },
      "source": [
        "\n",
        "\n",
        "\n",
        "The best way to learn HTML is to type some of your own. \n",
        "1. Start by opening [this interactive environment](https://www.w3schools.com/html/tryit.asp?filename=tryhtml_default). \n",
        "2. Now change the text in the Header  tag and the Paragraph tag to make the screen on the right look like this. (*Hint make sure to hit the “Run” button)\n",
        " \n",
        " [![Screen-Shot-2019-06-10-at-8-49-53-AM.png](https://i.postimg.cc/DzKrZbL9/Screen-Shot-2019-06-10-at-8-49-53-AM.png)](https://postimg.cc/JsPDY0Tx)\n",
        " \n",
        " \n",
        "3. Now add another header tag underneath the paragraph tag to make the screen on the right look like this: \n",
        " \n",
        " [![Screen-Shot-2019-06-10-at-8-53-50-AM.png](https://i.postimg.cc/rwpm9ycD/Screen-Shot-2019-06-10-at-8-53-50-AM.png)](https://postimg.cc/KRdxG21b)\n",
        " \n",
        " \n",
        "Great! Now that you understand the fundamental structure of HTML let’s explore how real life web pages use it. \n",
        "\n",
        "Since we are going to be analyzing news websites, let’s get a look at what that their HTML looks like. \n",
        "\n",
        "1. Head over to the[ New York Times webpage. ](https://www.nytimes.com/)\n",
        "2. Next, right click on the page and hit on “View Selection” or “View Source” (Depends on your web browser). You should now see all the HTML source code for that page. You will see a lot of tags and text that you don’t know yet, that’s ok. \n",
        "3. Just by looking at the HTML, can you anticipate some challenges that might arise when trying to analyze this code? For example, how will we be able to write a program that can differentiate between a link and text?  \n",
        "4. Discuss 1-2 potential challenges that come to mind. \n",
        "\n",
        "\n",
        "\n"
      ]
    },
    {
      "cell_type": "markdown",
      "metadata": {
        "id": "K81dzeKOB8dC"
      },
      "source": [
        "## Problem Statement\n",
        "\n",
        "**Given the URL of a news website and its HTML, can we classify the news website as either fake or real?** "
      ]
    },
    {
      "cell_type": "markdown",
      "metadata": {
        "id": "uMvanqjEep6F"
      },
      "source": [
        "## Exercise 2 | Exploring the Data "
      ]
    },
    {
      "cell_type": "markdown",
      "metadata": {
        "id": "kyjlqYG3euBy"
      },
      "source": [
        "### Dataset \n",
        "\n",
        "Load the train and val in the below cell:\n"
      ]
    },
    {
      "cell_type": "code",
      "metadata": {
        "id": "0En5nk5pEc72",
        "colab": {
          "base_uri": "https://localhost:8080/"
        },
        "outputId": "983fb5cb-ac23-4fe9-b866-230c4124d6ec"
      },
      "source": [
        "with open(os.path.join(basepath, 'train_val_data.pkl'), 'rb') as f:\n",
        "  train_data, val_data = pickle.load(f)\n",
        "\n",
        "print('Number of train examples:', len(train_data))\n",
        "print('Number of val examples:', len(val_data))\n",
        "\n",
        "print('Fraction of train examples that are fake:', len([datapoint for datapoint in train_data if datapoint[2] == 0]) / float(len(train_data)))\n",
        "print('Fraction of val examples that are fake:', len([datapoint for datapoint in val_data if datapoint[2] == 0]) / float(len(val_data)))"
      ],
      "execution_count": null,
      "outputs": [
        {
          "output_type": "stream",
          "text": [
            "Number of train examples: 2002\n",
            "Number of val examples: 309\n",
            "Fraction of train examples that are fake: 0.5224775224775224\n",
            "Fraction of val examples that are fake: 0.5436893203883495\n"
          ],
          "name": "stdout"
        }
      ]
    },
    {
      "cell_type": "markdown",
      "metadata": {
        "id": "L4yi_xDAEdTN"
      },
      "source": [
        "We can see that the number of examples for each portion of the data approximately matches the split above, and each portion has roughly 50% fake news websites. Now to explore what each data point looks like. \n",
        "\n",
        "###Changing The Example Index\n",
        "\n",
        "Spend ~15 minutes browsing through the data by changing example_idx below. You are able to see the URL, label (0 is real, 1 is fake), and part of the HTML for an example.\n",
        "\n",
        "Observe that each data point has three values: the URL, the HTML, and the binary (0 or 1) label. A label of \"1\" indicates that the website is a fake news website, and a label of \"0\" indicates that the website does not have fake news. See if you can spot some differences between examples with label 0 and examples with label 1, especially in their URLs! The HTML may be a bit difficult to read, since it is much longer, so don't worry about this."
      ]
    },
    {
      "cell_type": "code",
      "metadata": {
        "id": "JEi_NJeuIeBf",
        "colab": {
          "base_uri": "https://localhost:8080/"
        },
        "outputId": "d8d74917-52f2-4e6e-c0f7-d8b6bdf6798a"
      },
      "source": [
        "### YOUR CODE HERE ###\n",
        "example_idx = 5\n",
        "### END CODE HERE ###\n",
        "\n",
        "print('Number of values per data point: %d\\n' % len(train_data[0]))\n",
        "\n",
        "print('URL for chosen example:', train_data[example_idx][0])\n",
        "print('Label for chosen example:', train_data[example_idx][2])\n",
        "print('HTML for chosen example (first 5000 chars):\\n\\n', bs(train_data[example_idx][1]).prettify()[:1000])"
      ],
      "execution_count": null,
      "outputs": [
        {
          "output_type": "stream",
          "text": [
            "Number of values per data point: 3\n",
            "\n",
            "URL for chosen example: www.reuters.com\n",
            "Label for chosen example: 0\n",
            "HTML for chosen example (first 5000 chars):\n",
            "\n",
            " <!--[if !IE]> This has been served from cache <![endif]-->\n",
            "<!--[if !IE]> Request served from apache server: produs--i-0e8ab7f4ed17eb0b0 <![endif]-->\n",
            "<!--[if !IE]> Cached on Tue, 21 May 2019 21:09:30 GMT and will expire on Tue, 21 May 2019 21:14:14 GMT <![endif]-->\n",
            "<!--[if !IE]> token: b50c6d65-2cbe-4693-8c4c-3e8242510ee5 <![endif]-->\n",
            "<!--[if !IE]> Prepopulated from the cache-server <![endif]-->\n",
            "<!--[if !IE]> App Server /produs--i-0718b85b30ff2bfdf/ <![endif]-->\n",
            "<!DOCTYPE html>\n",
            "<html lang=\"en\">\n",
            " <head>\n",
            "  <title>\n",
            "   Business &amp; Financial News, U.S &amp; International Breaking News  | Reuters\n",
            "  </title>\n",
            "  <meta content=\"IE=edge\" http-equiv=\"X-UA-Compatible\"/>\n",
            "  <meta charset=\"utf-8\"/>\n",
            "  <meta content=\"on\" http-equiv=\"x-dns-prefetch-control\"/>\n",
            "  <link href=\"//s1.reutersmedia.net\" rel=\"dns-prefetch\"/>\n",
            "  <link href=\"//s2.reutersmedia.net\" rel=\"dns-prefetch\"/>\n",
            "  <link href=\"//s3.reutersmedia.net\" rel=\"dns-prefetch\"/>\n",
            "  <link href=\"//s4.reutersmedia.net\" rel=\"dns-prefetch\"/>\n",
            "  <link href=\"/\n"
          ],
          "name": "stdout"
        }
      ]
    },
    {
      "cell_type": "markdown",
      "metadata": {
        "id": "zhskZJ2BluPs"
      },
      "source": [
        "## Exercise 3 | Fake vs Real Fraction\n"
      ]
    },
    {
      "cell_type": "markdown",
      "metadata": {
        "id": "RT94ahwalvYZ"
      },
      "source": [
        "### Probing Hypotheses\n",
        "\n",
        "Browsing through the examples above, you might have gotten a few ideas for differences between real and fake news websites. For instance, you might have noticed that many fake news websites use domain name extensions other than \".com\", whereas this is less common for real news websites. So a possible hypothesis could be: \n",
        " \n",
        "####Websites with .com extensions are more likely to be real news. \n",
        "\n",
        "\n"
      ]
    },
    {
      "cell_type": "markdown",
      "metadata": {
        "id": "C-DCOLYVZCio"
      },
      "source": [
        "### Real Fraction \n",
        "\n",
        "One simple way to quantify our observation would be to see what percentage of websites using a certain extension (.com, .org, etc.) are real. We can call this number the Real Fraction. \n"
      ]
    },
    {
      "cell_type": "markdown",
      "metadata": {
        "id": "6qrYAGFaY_ld"
      },
      "source": [
        "###Fake Fraction\n",
        "\n",
        "Likewise, we can find what percentage of websites using a certain extension (.com, .org, etc) are fake. We can call this number the Fake Fraction. "
      ]
    },
    {
      "cell_type": "markdown",
      "metadata": {
        "id": "C1RGA1hQn5q3"
      },
      "source": [
        "### Fake/ Real Ratio\n",
        "\n",
        "How do we use the Fake Fraction and Real Fraction to test our hypothesis ? We could divide them to form a ratio, which we can call the Fake vs Real Ratio. \n",
        " \n",
        "For the .com extension, the Fake vs Real Ratio would be as follows. \n",
        " \n",
        "#### (.com) Fake vs  Real Ratio = Fraction of Fake Sites w/ (.com) / Fraction of Real Sites w/ (.com) \n",
        "\n"
      ]
    },
    {
      "cell_type": "markdown",
      "metadata": {
        "id": "TflU0c-puxNo"
      },
      "source": [
        "###Interpreting Ratios \n",
        "\n",
        "* If the ratio is less than 1, then we have reason to believe that real news websites disproportionately use \".com\" extensions, \n",
        "* If the ratio is greater than 1, then we have reason to believe that fake news websites disproportionately use \".com\" extensions, \n",
        "* If the ratio is 1, then both fake and real news websites use the .com extension about the same. This means that our hypothesis isn't very useful for separating out real and fake news websites, at least not by itself."
      ]
    },
    {
      "cell_type": "markdown",
      "metadata": {
        "id": "6tEIBfLXFxNn"
      },
      "source": [
        "\n",
        "### Test in Code\n",
        "\n",
        "We define a function below that returns the real and fake fractions of the training data that satisfy a hypothesis. In our code, our hypotheses will just be simple functions that take in a single data point and return \"True\" or \"False\". \n",
        "\n",
        "\n",
        "Finish the below function that computes the real and fake fractions, as described above. For each datapoint, you want to compute whether the hypothesis is true, and use this along with label to update *real_true*, *real_total*, *fake_true*, *fake_total*."
      ]
    },
    {
      "cell_type": "code",
      "metadata": {
        "id": "sXlQXdtwKHJD"
      },
      "source": [
        "def get_real_and_fake_fractions(train_data, hypothesis):\n",
        "    # Label 0, hypothesis true\n",
        "    real_true = 0.0\n",
        "    # Label 0 total\n",
        "    real_total = 0.0\n",
        "    # Label 1, hypothesis true\n",
        "    fake_true = 0.0\n",
        "    # Label 1 total\n",
        "    fake_total = 0.0\n",
        "    \n",
        "    for datapoint in train_data:\n",
        "        # Each datapoint has URL, HTML, label in that order.\n",
        "        label = datapoint[2]\n",
        "        ### YOUR CODE HERE ###\n",
        "        hypothesis_truth = int(hypothesis(datapoint))\n",
        "        \n",
        "        if label: # Fake\n",
        "            fake_total += 1\n",
        "            fake_true += hypothesis_truth\n",
        "\n",
        "        else: # Real\n",
        "            real_total += 1\n",
        "            real_true += hypothesis_truth\n",
        "            \n",
        "            ### END CODE HERE ###\n",
        "            \n",
        "    return real_true / real_total, fake_true / fake_total"
      ],
      "execution_count": null,
      "outputs": []
    },
    {
      "cell_type": "markdown",
      "metadata": {
        "id": "NrFNz_XAM_0r"
      },
      "source": [
        "Now, play around with this demonstration that asks you for a domain name extension, and prints out the real fraction, the fake fraction, and the ratio of fake fraction to real fraction. Make sure you understand what the code is doing! After running initially, try other values, like \".org\", \".co.uk\", and \".edu\"! The printed values will update automatically. Note that in some cases, the ratio may be \"Infinity\", if no real websites in the training data have that domain name."
      ]
    },
    {
      "cell_type": "code",
      "metadata": {
        "id": "Mfim5xsSNYAP",
        "colab": {
          "base_uri": "https://localhost:8080/"
        },
        "outputId": "95b7d10d-36ae-4464-c9a7-15486b0726f3"
      },
      "source": [
        "#@title Run this cell with your hypothesis domain name extension { run: \"auto\" }\n",
        "\n",
        "def domain_extension_hypothesis(datapoint):\n",
        "  extension = \".io\" #@param {type:\"string\"}\n",
        "  url = datapoint[0]\n",
        "  return url.endswith(extension)\n",
        "  \n",
        "real_fraction, fake_fraction = get_real_and_fake_fractions(train_data, \n",
        "                                                           domain_extension_hypothesis)\n",
        "\n",
        "print('Real fraction:', real_fraction)\n",
        "print('Fake fraction:', fake_fraction)\n",
        "\n",
        "# Simple logic for making the printed ratio more interpretable.\n",
        "def pretty_ratio(fake_fraction, real_fraction):\n",
        "    ratio = (fake_fraction / real_fraction) if real_fraction > 0 else 'Infinity'\n",
        "    if fake_fraction == real_fraction:\n",
        "      ratio = 1\n",
        "    return ratio\n",
        "  \n",
        "print('Ratio fraction:', pretty_ratio(fake_fraction, real_fraction))"
      ],
      "execution_count": null,
      "outputs": [
        {
          "output_type": "stream",
          "text": [
            "Real fraction: 0.0\n",
            "Fake fraction: 0.0\n",
            "Ratio fraction: 1\n"
          ],
          "name": "stdout"
        }
      ]
    },
    {
      "cell_type": "markdown",
      "metadata": {
        "id": "8UBEqbDinHN0"
      },
      "source": [
        "## Exercise 4:  Ratio Fraction Infinity \n",
        "\n",
        "Can you find a domain name extension that produces ratio fraction Infinity? Can you find one that produces ratio fraction 0 (~3 minutes)? Fill them in below."
      ]
    },
    {
      "cell_type": "code",
      "metadata": {
        "id": "EWjMqJOznHN1"
      },
      "source": [
        "### YOUR CODE HERE ###\n",
        "domain_name_extension_with_ratio_infinity = '.uk'\n",
        "domain_name_extension_with_ratio_zero = ''\n",
        "### END CODE HERE"
      ],
      "execution_count": null,
      "outputs": []
    },
    {
      "cell_type": "markdown",
      "metadata": {
        "id": "iiQKarqUy_Uu"
      },
      "source": [
        "Now, answer the following questions in your worksheet. \n",
        "\n",
        "How do we interpret ratio fractions of 0?\n",
        "\n",
        "How do we interpret ratio fractions of Infinity? \n",
        "\n",
        "What might this tell us about our data?"
      ]
    },
    {
      "cell_type": "markdown",
      "metadata": {
        "id": "7gjwYNlEzBOW"
      },
      "source": [
        "## Exercise 5:  Word Frequency Method \n"
      ]
    },
    {
      "cell_type": "markdown",
      "metadata": {
        "id": "fI-Po2v3nHN3"
      },
      "source": [
        "One natural idea is counting whether the frequency of words in the HTML of a webpage is above a certain threshold. For example, given the word \"Clinton\" and a threshold of 3, does nytimes.com mention \"Clinton\" 3 times? Does infowars.com? This may tell us something about how useful the word \"Clinton\" is for telling us whether a website is fake or not.\n",
        "\n",
        "\n",
        "###Test in Code\n",
        "\n",
        "Now, code up the below hypothesis function that tests whether the count of a provided word is above a threshold and play with the resulting demo (~15 minutes). We have provided some starter code for you."
      ]
    },
    {
      "cell_type": "code",
      "metadata": {
        "id": "9dql1CTlnHN3",
        "colab": {
          "base_uri": "https://localhost:8080/"
        },
        "outputId": "d506815f-3029-4c82-f508-05821fb970d9"
      },
      "source": [
        "#@title Run this cell with a word and a threshold { run: \"auto\" }\n",
        "\n",
        "def get_count_from_html(html, hypothesis_word):\n",
        "    # Transform word to lowercase for consistent results.\n",
        "    return html.count(hypothesis_word.lower())\n",
        "\n",
        "def word_threshold_hypothesis(datapoint):\n",
        "  hypothesis_word = \"COVID\" #@param {type:\"string\"}\n",
        "  threshold =  10#@param {type:\"integer\"}\n",
        "  # Transform HTML to lowercase for consistent results.\n",
        "  html = datapoint[1].lower() \n",
        "    \n",
        "  ### YOUR CODE HERE ### (Use get_count_from_html!)\n",
        "  count = get_count_from_html(html, hypothesis_word)\n",
        "  return count > threshold\n",
        "  ### END CODE HERE ###\n",
        "  \n",
        "real_fraction, fake_fraction = get_real_and_fake_fractions(train_data, \n",
        "                                                           word_threshold_hypothesis)\n",
        "\n",
        "print('Real fraction:', real_fraction)\n",
        "print('Fake fraction:', fake_fraction)\n",
        "  \n",
        "print('Ratio fraction:', pretty_ratio(fake_fraction, real_fraction))"
      ],
      "execution_count": null,
      "outputs": [
        {
          "output_type": "stream",
          "text": [
            "Real fraction: 0.0\n",
            "Fake fraction: 0.0\n",
            "Ratio fraction: 1\n"
          ],
          "name": "stdout"
        }
      ]
    },
    {
      "cell_type": "markdown",
      "metadata": {
        "id": "ypCqOW89OsY-"
      },
      "source": [
        "## Exercise 6:  Hypothesize\n",
        "\n"
      ]
    },
    {
      "cell_type": "markdown",
      "metadata": {
        "id": "3jk2-pWo6JFY"
      },
      "source": [
        "Once you have \"Clinton\" working with a threshold of 3, try other words, like \"Trump\", \"Obama\", \"Sports\", \"Finance\", and \"Opinion\". \n",
        "\n",
        "Discuss three interesting hypothesis word and threshold combination, with an explanation for why you think it is happening.\n",
        "\n",
        "Be prepared to share with the class! "
      ]
    },
    {
      "cell_type": "markdown",
      "metadata": {
        "id": "bgUhzQR55GqV"
      },
      "source": [
        "## Exercise 7 | Custom Hypothesis\n"
      ]
    },
    {
      "cell_type": "markdown",
      "metadata": {
        "id": "HNptThcx5IOw"
      },
      "source": [
        "Now, create your own custom hypotheses! All you should change is the hypothesis function (~20 minutes). \n",
        "\n",
        "Some ideas: \n",
        "* check whether websites contain certain HTML tags (e.g. \"\\<table>, \\<section>\"), \n",
        "* check whether websites contain certain words or phrases in the URL, \n",
        "* check whether websites are Wordpress blogs (hint: check whether they contain \"wp-content\" frequently)."
      ]
    },
    {
      "cell_type": "code",
      "metadata": {
        "id": "Y02Bmix5O8Ph"
      },
      "source": [
        "### YOUR CODE HERE ###\n",
        "\n",
        "\n",
        "### END CODE HERE ###"
      ],
      "execution_count": null,
      "outputs": []
    },
    {
      "cell_type": "markdown",
      "metadata": {
        "id": "OJsHZUqBPBOY"
      },
      "source": [
        "Once you are done, list your most interesting hypotheses below and prepare to discuss with the class!\n",
        "\n",
        "Congratulations on completing this notebook! Tomorrow, we'll use the insights you just built up to build our baseline model."
      ]
    }
  ]
}